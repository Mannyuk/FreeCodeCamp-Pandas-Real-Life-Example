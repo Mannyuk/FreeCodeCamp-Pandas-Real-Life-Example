{
 "cells": [
  {
   "cell_type": "markdown",
   "id": "6ff59230",
   "metadata": {
    "papermill": {
     "duration": 0.00814,
     "end_time": "2022-03-11T14:36:04.349347",
     "exception": false,
     "start_time": "2022-03-11T14:36:04.341207",
     "status": "completed"
    },
    "tags": []
   },
   "source": [
    "Write a function named add_time that takes in two required parameters and one optional parameter:\n",
    "\n",
    "a start time in the 12-hour clock format (ending in AM or PM)\n",
    "a duration time that indicates the number of hours and minutes\n",
    "(optional) a starting day of the week, case insensitive\n",
    "The function should add the duration time to the start time and return the result.\n",
    "\n",
    "If the result will be the next day, it should show (next day) after the time. If the result will be more than one day later, it should show (n days later) after the time, where \"n\" is the number of days later.\n",
    "\n",
    "If the function is given the optional starting day of the week parameter, then the output should display the day of the week of the result. The day of the week in the output should appear after the time and before the number of days later.\n",
    "\n",
    "Below are some examples of different cases the function should handle. Pay close attention to the spacing and punctuation of the results.\n",
    "\n",
    "add_time(\"3:00 PM\", \"3:10\")\n",
    "# Returns: 6:10 PM\n",
    "\n",
    "add_time(\"11:30 AM\", \"2:32\", \"Monday\")\n",
    "# Returns: 2:02 PM, Monday\n",
    "\n",
    "add_time(\"11:43 AM\", \"00:20\")\n",
    "# Returns: 12:03 PM\n",
    "\n",
    "add_time(\"10:10 PM\", \"3:30\")\n",
    "# Returns: 1:40 AM (next day)\n",
    "\n",
    "add_time(\"11:43 PM\", \"24:20\", \"tueSday\")\n",
    "# Returns: 12:03 AM, Thursday (2 days later)\n",
    "\n",
    "add_time(\"6:30 PM\", \"205:12\")\n",
    " # Returns: 7:42 AM (9 days later)\n",
    "Do not import any Python libraries. Assume that the start times are valid times. The minutes in the duration time will be a whole number less than 60, but the hour can be any whole number."
   ]
  },
  {
   "cell_type": "code",
   "execution_count": 1,
   "id": "e99c5497",
   "metadata": {
    "execution": {
     "iopub.execute_input": "2022-03-11T14:36:04.372930Z",
     "iopub.status.busy": "2022-03-11T14:36:04.372277Z",
     "iopub.status.idle": "2022-03-11T14:36:04.379169Z",
     "shell.execute_reply": "2022-03-11T14:36:04.379637Z",
     "shell.execute_reply.started": "2022-03-11T11:10:29.701099Z"
    },
    "papermill": {
     "duration": 0.023199,
     "end_time": "2022-03-11T14:36:04.379980",
     "exception": false,
     "start_time": "2022-03-11T14:36:04.356781",
     "status": "completed"
    },
    "tags": []
   },
   "outputs": [],
   "source": [
    "def add_time(time, duration, day = ''):\n",
    "    x = time.split()\n",
    "    y = duration.split()\n",
    "    "
   ]
  },
  {
   "cell_type": "code",
   "execution_count": 2,
   "id": "5db15c4e",
   "metadata": {
    "execution": {
     "iopub.execute_input": "2022-03-11T14:36:04.397377Z",
     "iopub.status.busy": "2022-03-11T14:36:04.396639Z",
     "iopub.status.idle": "2022-03-11T14:36:04.432098Z",
     "shell.execute_reply": "2022-03-11T14:36:04.432614Z",
     "shell.execute_reply.started": "2022-03-11T14:35:15.469878Z"
    },
    "papermill": {
     "duration": 0.046014,
     "end_time": "2022-03-11T14:36:04.432831",
     "exception": false,
     "start_time": "2022-03-11T14:36:04.386817",
     "status": "completed"
    },
    "tags": []
   },
   "outputs": [],
   "source": [
    "def add_time(time, duration, weekday = ''):\n",
    "\n",
    "        x = time.replace(' ', ':').split(':')\n",
    "        y = duration.split(':')\n",
    "\n",
    "        # check if the minute park is greater 60 minute\n",
    "        if float(x[1])+ float(y[1])>= 60:\n",
    "            k= float(x[0])+1.0 +((float(x[1])+float(y[1]))%60)/100\n",
    "        else:\n",
    "            k= float(x[0])+float(x[1])/100 + float(y[1])/100\n",
    "\n",
    "        # Total hours calucation   \n",
    "        if k+float(y[0])> 12.59 :\n",
    "            if float(y[0])<= 12:\n",
    "                z= '%.2f'%((k+float(y[0]))-12)\n",
    "            elif float(y[0])<= 24:\n",
    "                z= '%.2f'%((k+ float(y[0]))-24)\n",
    "            else:\n",
    "                if ((float(y[0])%24)<12.0 and (k <= 1.59)):\n",
    "                    z= '%.2f'%((k+float(y[0])%24))\n",
    "                else:\n",
    "                     z='%.2f'%((k+float(y[0])%24)-12)\n",
    "        else:\n",
    "            z= '%.2f'%(k+ float(y[0]))\n",
    "\n",
    "        # checking if it is PM or AM\n",
    "        if ((k+float(y[0]))>11.59 and (k < 12.00)):\n",
    "            if (float(y[0]) <= 12.59) or ((float(y[0])%24) > 12.59) :\n",
    "                if x[2]== 'PM':\n",
    "                    meridiem = 'AM'\n",
    "                else:\n",
    "                    meridiem = 'PM'\n",
    "            elif (((float(y[0])%24)+ k)> 11.59):\n",
    "                if x[2]== 'PM':\n",
    "                    meridiem = 'AM'\n",
    "                else:\n",
    "                    meridiem = 'PM'\n",
    "                \n",
    "            else:\n",
    "                meridiem = x[2]\n",
    "\n",
    "        elif ((k+float(y[0]))>11.59) and (k > 12.00):\n",
    "            if (float(y[0])<12) or ((float(y[0])%24)<12):\n",
    "                if x[2] == 'AM':\n",
    "                     meridiem = 'PM'\n",
    "                else:\n",
    "                     meridiem = 'AM' \n",
    "            else:\n",
    "                 meridiem = x[2]\n",
    "\n",
    "        else: \n",
    "            meridiem = x[2]\n",
    "\n",
    "        # code for number of days\n",
    "        if (k+float(y[0])>11.59 and x[2]=='PM'):\n",
    "            if float(y[0]) < 24 :\n",
    "                actual = '1'\n",
    "                day = \"(\" +'next day'+\")\"       \n",
    "            else:\n",
    "                if (k+ float(y[0])%24)< 24:\n",
    "                    actual= str(int(1 + int(y[0])//24))\n",
    "                    day = \"(\"+ actual + ' ' + 'days'+ ' ' +'later'+ \")\"\n",
    "                else:\n",
    "                    actual = str(int(2 + int(y[0])//24))\n",
    "                    day = \"(\"+ actual + ' ' + 'days' + ' ' + 'later'+\")\"\n",
    "\n",
    "        elif (k+float(y[0])>11.59 and x[2]=='AM'):\n",
    "            if float(y[0]) > 12:\n",
    "                if ((int(y[0])-(24-k))//24)< 1 :\n",
    "                    actual = '1'\n",
    "                    day = \"(\" +'next day'+\")\" \n",
    "                else:\n",
    "                    actual = str(int(1 + ((int(y[0])-(24-k))//24)))\n",
    "                    day = \"(\"+ actual + ' ' + 'days'+ ' ' +'later'+ \")\"             \n",
    "\n",
    "            else:\n",
    "                day = ''\n",
    "\n",
    "        else:\n",
    "             day = ''\n",
    "\n",
    "\n",
    "        # handling day of the week  \n",
    "        monday = {'monday+1' :'tuesday', 'monday+2': 'wednesday','monday+3':'thursday', 'monday+4': 'friday','monday+5': 'saturday',\n",
    "                  'monday+6': 'sunday'}\n",
    "        tuesday = {'tuesday+1': 'wednesday','tuesday+2':'thursday', 'tuesday+3': 'friday','tuesday+4': 'saturday', 'tuesday+5': 'sunday', \n",
    "                   'tuesday+6': 'monday'}\n",
    "        wednesday = {'wednesday+1': 'thursday','wednesday+2':'friday', 'wednesday+3': 'saturday','wednesday+4': 'sunday', \n",
    "                     'wednesday+5': 'monday', \n",
    "                   'wednesday+6': 'tuesday'}\n",
    "        thursday = {'thursday+1': 'friday','thursday+2':'saturday', 'thursday+3': 'sunday','thursday+4': 'monday', 'thursday+5': 'tuesday', \n",
    "                   'thursday+6': 'wednesday'}\n",
    "        friday = {'friday+1': 'saturday','friday+2':'sunday', 'friday+3': 'monday','friday+4': 'tuesday', 'friday+5': 'wednesday', \n",
    "                   'friday+6': 'thursday'}\n",
    "        saturday = {'saturday+1': 'sunday','saturday+2':'monday', 'saturday+3': 'tuesday','saturday+4': 'wednesday', 'saturday+5': 'thursday', \n",
    "                   'saturday+6': 'friday'}\n",
    "        sunday ={'sunday+1': 'monday','sunday+2':'tuesday', 'sunday+3': 'wednesday','sunday+4': 'thursday', 'sunday+5': 'friday', \n",
    "                   'sunday+6': 'saturday'}\n",
    "        weekday_dict = {'monday': monday, 'tuesday': tuesday, 'wednesday': wednesday, 'thursday': thursday, 'friday': friday, \n",
    "                        'saturday': saturday,'sunday': sunday}\n",
    "        # handling days of the week\n",
    "        if len(weekday)!=0:\n",
    "            if (day == '') or (int(actual)% 7 == 0):\n",
    "                actual_day = weekday.lower().capitalize()\n",
    "                time = str(z).replace('.', ':') +' '+ meridiem +',' + ' '+ actual_day +' ' + day\n",
    "            else:\n",
    "                if int(actual) > 7:\n",
    "                    actual_day = (weekday_dict[weekday.lower()][weekday.lower()+'+'+ str(int(actual)% 7)]).capitalize()\n",
    "                    time = str(z).replace('.', ':')+' '+ meridiem +','+ ' '+ actual_day +' '+ day\n",
    "                else:\n",
    "                    actual_day = (weekday_dict[weekday.lower()][weekday.lower()+ '+'+ actual]).capitalize()\n",
    "                    time = str(z).replace('.', ':') +' '+ meridiem +','+ ' '+ actual_day +' ' + day\n",
    "\n",
    "        else:\n",
    "            actual_day = ''\n",
    "            time = str(z).replace('.', ':')+' '+ meridiem + ''+ actual_day + ' '+ day\n",
    "\n",
    "         #12:03 AM, Thursday (2 days later)   \n",
    "\n",
    "\n",
    "\n",
    "        return time\n"
   ]
  },
  {
   "cell_type": "code",
   "execution_count": 3,
   "id": "f3437f65",
   "metadata": {
    "execution": {
     "iopub.execute_input": "2022-03-11T14:36:04.455270Z",
     "iopub.status.busy": "2022-03-11T14:36:04.449572Z",
     "iopub.status.idle": "2022-03-11T14:36:04.465352Z",
     "shell.execute_reply": "2022-03-11T14:36:04.464746Z",
     "shell.execute_reply.started": "2022-03-11T14:35:17.929846Z"
    },
    "papermill": {
     "duration": 0.025574,
     "end_time": "2022-03-11T14:36:04.465524",
     "exception": false,
     "start_time": "2022-03-11T14:36:04.439950",
     "status": "completed"
    },
    "tags": []
   },
   "outputs": [
    {
     "name": "stdout",
     "output_type": "stream",
     "text": [
      "Test1: 5:42 PM \t expected1: 5:42 PM\n",
      "Test2: 3:07 PM \t expected2: 3:07 PM\n",
      "Test3: 2:45 AM (next day)\t expected3: 2:45 AM (next day)\n",
      "Test4: 12:05 PM \t expected4: 12:05 PM\n",
      "Test5: 2:59 AM (next day)\t expected5: 2:59 AM (next day)\n",
      "Test6: 12:04 AM (2 days later)\t expected6: 12:04 AM (2 days later)\n",
      "Test7: 6:18 AM (20 days later)\t expected7: 6:18 AM (20 days later)\n",
      "Test8: 5:01 AM \t expected8: 5:01 AM\n",
      "Test9: 5:42 PM, Monday \t expected9: 5:42 PM, Monday\n",
      "Test10: 2:59 AM, Sunday (next day)\t expected10: 2:59 AM, Sunday (next day)\n",
      "Test11: 12:04 AM, Friday (2 days later)\t expected11: 12:04 AM, Friday (2 days later)\n",
      "Test12: 6:18 AM, Monday (20 days later)\t expected12: 6:18 AM, Monday (20 days later)\n"
     ]
    }
   ],
   "source": [
    "actual1 = add_time(\"3:30 PM\", \"2:12\")\n",
    "expected1  = \"5:42 PM\"\n",
    "actual2 = add_time(\"11:55 AM\", \"3:12\")\n",
    "expected2 = \"3:07 PM\"\n",
    "actual3 = add_time(\"9:15 PM\", \"5:30\")\n",
    "expected3 = \"2:45 AM (next day)\"\n",
    "actual4 = add_time(\"11:40 AM\", \"0:25\")\n",
    "expected4 = \"12:05 PM\"\n",
    "actual5 = add_time(\"2:59 AM\", \"24:00\")\n",
    "expected5 = \"2:59 AM (next day)\"\n",
    "actual6 = add_time(\"11:59 PM\", \"24:05\")\n",
    "expected6 = \"12:04 AM (2 days later)\"\n",
    "actual7 = add_time(\"8:16 PM\", \"466:02\") #2\n",
    "expected7 = \"6:18 AM (20 days later)\"\n",
    "actual8 = add_time(\"5:01 AM\", \"0:00\")\n",
    "expected8 = \"5:01 AM\"\n",
    "actual9 = add_time(\"3:30 PM\", \"2:12\", \"Monday\")\n",
    "expected9 = \"5:42 PM, Monday\"\n",
    "actual10 = add_time(\"2:59 AM\", \"24:00\", \"saturDay\") #3\n",
    "expected10 = \"2:59 AM, Sunday (next day)\"\n",
    "actual11 = add_time(\"11:59 PM\", \"24:05\", \"Wednesday\")\n",
    "expected11 = \"12:04 AM, Friday (2 days later)\"\n",
    "actual12 = add_time(\"8:16 PM\", \"466:02\", \"tuesday\") #12\n",
    "expected12 = \"6:18 AM, Monday (20 days later)\"\n",
    "print('Test1: %s\\t expected1: %s'%(actual1, expected1))\n",
    "print('Test2: %s\\t expected2: %s'%(actual2, expected2))\n",
    "print('Test3: %s\\t expected3: %s'%(actual3, expected3))\n",
    "print('Test4: %s\\t expected4: %s'%(actual4, expected4))\n",
    "print('Test5: %s\\t expected5: %s'%(actual5, expected5))\n",
    "print('Test6: %s\\t expected6: %s'%(actual6, expected6))\n",
    "print('Test7: %s\\t expected7: %s'%(actual7, expected7))\n",
    "print('Test8: %s\\t expected8: %s'%(actual8, expected8))\n",
    "print('Test9: %s\\t expected9: %s'%(actual9, expected9))\n",
    "print('Test10: %s\\t expected10: %s'%(actual10, expected10))\n",
    "print('Test11: %s\\t expected11: %s'%(actual11, expected11))\n",
    "print('Test12: %s\\t expected12: %s'%(actual12, expected12))\n"
   ]
  },
  {
   "cell_type": "code",
   "execution_count": 4,
   "id": "bf1ca03d",
   "metadata": {
    "execution": {
     "iopub.execute_input": "2022-03-11T14:36:04.486139Z",
     "iopub.status.busy": "2022-03-11T14:36:04.485115Z",
     "iopub.status.idle": "2022-03-11T14:36:04.492496Z",
     "shell.execute_reply": "2022-03-11T14:36:04.493001Z",
     "shell.execute_reply.started": "2022-03-11T13:51:49.795817Z"
    },
    "papermill": {
     "duration": 0.019989,
     "end_time": "2022-03-11T14:36:04.493193",
     "exception": false,
     "start_time": "2022-03-11T14:36:04.473204",
     "status": "completed"
    },
    "tags": []
   },
   "outputs": [
    {
     "data": {
      "text/plain": [
       "10"
      ]
     },
     "execution_count": 4,
     "metadata": {},
     "output_type": "execute_result"
    }
   ],
   "source": [
    "466%24"
   ]
  }
 ],
 "metadata": {
  "kernelspec": {
   "display_name": "Python 3",
   "language": "python",
   "name": "python3"
  },
  "language_info": {
   "codemirror_mode": {
    "name": "ipython",
    "version": 3
   },
   "file_extension": ".py",
   "mimetype": "text/x-python",
   "name": "python",
   "nbconvert_exporter": "python",
   "pygments_lexer": "ipython3",
   "version": "3.7.12"
  },
  "papermill": {
   "default_parameters": {},
   "duration": 11.051695,
   "end_time": "2022-03-11T14:36:05.312197",
   "environment_variables": {},
   "exception": null,
   "input_path": "__notebook__.ipynb",
   "output_path": "__notebook__.ipynb",
   "parameters": {},
   "start_time": "2022-03-11T14:35:54.260502",
   "version": "2.3.3"
  }
 },
 "nbformat": 4,
 "nbformat_minor": 5
}
